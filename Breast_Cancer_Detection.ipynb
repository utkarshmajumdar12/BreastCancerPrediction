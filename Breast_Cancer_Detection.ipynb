{
  "nbformat": 4,
  "nbformat_minor": 0,
  "metadata": {
    "colab": {
      "provenance": []
    },
    "kernelspec": {
      "name": "python3",
      "display_name": "Python 3"
    },
    "language_info": {
      "name": "python"
    }
  },
  "cells": [
    {
      "cell_type": "code",
      "metadata": {
        "id": "NVR45gZQjlSG"
      },
      "source": [
        "import tensorflow as tf\n",
        "import tensorflow.keras\n",
        "from tensorflow.keras import models, layers"
      ],
      "execution_count": null,
      "outputs": []
    },
    {
      "cell_type": "code",
      "metadata": {
        "id": "f6j5cPJ9j54Q"
      },
      "source": [
        "import pandas as pd\n",
        "import numpy as np\n",
        "import matplotlib.pyplot as plt\n"
      ],
      "execution_count": null,
      "outputs": []
    },
    {
      "cell_type": "code",
      "metadata": {
        "id": "PDGI6ZYTkDb-"
      },
      "source": [
        "from sklearn import datasets, metrics\n",
        "from sklearn.preprocessing import StandardScaler\n",
        "from sklearn.model_selection import train_test_split"
      ],
      "execution_count": null,
      "outputs": []
    },
    {
      "cell_type": "code",
      "metadata": {
        "id": "QtgQcZejkSVG"
      },
      "source": [
        "cancer = datasets.load_breast_cancer()"
      ],
      "execution_count": null,
      "outputs": []
    },
    {
      "cell_type": "code",
      "metadata": {
        "id": "EW-HIuJjkpvu"
      },
      "source": [
        "X = pd.DataFrame(data=cancer.data, columns=cancer.feature_names)"
      ],
      "execution_count": null,
      "outputs": []
    },
    {
      "cell_type": "code",
      "metadata": {
        "id": "cuKocXcvlAAW"
      },
      "source": [
        "y = cancer.target"
      ],
      "execution_count": null,
      "outputs": []
    },
    {
      "cell_type": "code",
      "metadata": {
        "colab": {
          "base_uri": "https://localhost:8080/"
        },
        "id": "-EPM6AvXlG5z",
        "outputId": "2be0d04c-28cf-42aa-f998-7fc8e0a72926"
      },
      "source": [
        "X.shape"
      ],
      "execution_count": null,
      "outputs": [
        {
          "output_type": "execute_result",
          "data": {
            "text/plain": [
              "(569, 30)"
            ]
          },
          "metadata": {},
          "execution_count": 11
        }
      ]
    },
    {
      "cell_type": "code",
      "metadata": {
        "colab": {
          "base_uri": "https://localhost:8080/"
        },
        "id": "YG3eqmuVlKdG",
        "outputId": "02bfb23f-a813-4c2b-cf2d-b098ccb1ed9c"
      },
      "source": [
        "X_train, X_test, y_train,y_test = train_test_split(X,y,  test_size=0.33,random_state=42)\n",
        "print(X_train.shape)\n",
        "print(X_test.shape)"
      ],
      "execution_count": null,
      "outputs": [
        {
          "output_type": "stream",
          "name": "stdout",
          "text": [
            "(381, 30)\n",
            "(188, 30)\n"
          ]
        }
      ]
    },
    {
      "cell_type": "code",
      "metadata": {
        "id": "wIk0nIFzmlH2"
      },
      "source": [
        "scaler = StandardScaler()\n",
        "X_train = scaler.fit_transform(X_train)\n",
        "X_test = scaler.transform(X_test)"
      ],
      "execution_count": null,
      "outputs": []
    },
    {
      "cell_type": "code",
      "metadata": {
        "id": "Bc1Gs980l_WW"
      },
      "source": [
        "X_train= X_train.reshape(381,30,1)\n",
        "X_test = X_test.reshape(188,30,1)\n"
      ],
      "execution_count": null,
      "outputs": []
    },
    {
      "cell_type": "code",
      "metadata": {
        "id": "uP2VuK0dqCDt"
      },
      "source": [
        "model = tf.keras.Sequential([\n",
        "        tf.keras.layers.Conv1D(filters = 64, kernel_size=3, activation='relu', input_shape=(30,1)),\n",
        "        tf.keras.layers.MaxPooling1D(2),\n",
        "\n",
        "        tf.keras.layers.Conv1D(filters = 32, kernel_size=3, activation='relu', input_shape=(30,1)),\n",
        "        tf.keras.layers.MaxPooling1D(2),\n",
        "\n",
        "        tf.keras.layers.Flatten(),\n",
        "        tf.keras.layers.Dense(64, activation ='relu'),\n",
        "        tf.keras.layers.Dense(32, activation ='relu'),\n",
        "        tf.keras.layers.Dense(1, activation ='sigmoid'),\n",
        "])"
      ],
      "execution_count": null,
      "outputs": []
    },
    {
      "cell_type": "code",
      "metadata": {
        "colab": {
          "base_uri": "https://localhost:8080/"
        },
        "id": "c1nATY-_r1Qd",
        "outputId": "6f8334a3-5e4b-4d0b-b82f-b5def944380d"
      },
      "source": [
        "model.summary()"
      ],
      "execution_count": null,
      "outputs": [
        {
          "output_type": "stream",
          "name": "stdout",
          "text": [
            "Model: \"sequential_3\"\n",
            "_________________________________________________________________\n",
            "Layer (type)                 Output Shape              Param #   \n",
            "=================================================================\n",
            "conv1d_2 (Conv1D)            (None, 28, 64)            256       \n",
            "_________________________________________________________________\n",
            "max_pooling1d_1 (MaxPooling1 (None, 14, 64)            0         \n",
            "_________________________________________________________________\n",
            "conv1d_3 (Conv1D)            (None, 12, 32)            6176      \n",
            "_________________________________________________________________\n",
            "max_pooling1d_2 (MaxPooling1 (None, 6, 32)             0         \n",
            "_________________________________________________________________\n",
            "flatten_4 (Flatten)          (None, 192)               0         \n",
            "_________________________________________________________________\n",
            "dense_9 (Dense)              (None, 64)                12352     \n",
            "_________________________________________________________________\n",
            "dense_10 (Dense)             (None, 32)                2080      \n",
            "_________________________________________________________________\n",
            "dense_11 (Dense)             (None, 1)                 33        \n",
            "=================================================================\n",
            "Total params: 20,897\n",
            "Trainable params: 20,897\n",
            "Non-trainable params: 0\n",
            "_________________________________________________________________\n"
          ]
        }
      ]
    },
    {
      "cell_type": "code",
      "metadata": {
        "id": "fRKiBk_mr3A7"
      },
      "source": [
        "model.compile(optimizer='adam', loss = 'binary_crossentropy', metrics=['accuracy'])"
      ],
      "execution_count": null,
      "outputs": []
    },
    {
      "cell_type": "code",
      "metadata": {
        "colab": {
          "base_uri": "https://localhost:8080/"
        },
        "id": "QPJxQH7VsKyj",
        "outputId": "46ba938f-54fe-4c69-dcb4-81ebda225f8c"
      },
      "source": [
        "model.fit(X_train, y_train,epochs = 10,validation_batch_size=0.2, verbose = 1)"
      ],
      "execution_count": null,
      "outputs": [
        {
          "output_type": "stream",
          "name": "stdout",
          "text": [
            "Epoch 1/10\n",
            "12/12 [==============================] - 1s 5ms/step - loss: 0.4956 - accuracy: 0.8294\n",
            "Epoch 2/10\n",
            "12/12 [==============================] - 0s 4ms/step - loss: 0.2347 - accuracy: 0.9291\n",
            "Epoch 3/10\n",
            "12/12 [==============================] - 0s 6ms/step - loss: 0.1501 - accuracy: 0.9501\n",
            "Epoch 4/10\n",
            "12/12 [==============================] - 0s 4ms/step - loss: 0.1060 - accuracy: 0.9659\n",
            "Epoch 5/10\n",
            "12/12 [==============================] - 0s 5ms/step - loss: 0.0940 - accuracy: 0.9633\n",
            "Epoch 6/10\n",
            "12/12 [==============================] - 0s 5ms/step - loss: 0.0856 - accuracy: 0.9659\n",
            "Epoch 7/10\n",
            "12/12 [==============================] - 0s 4ms/step - loss: 0.0741 - accuracy: 0.9843\n",
            "Epoch 8/10\n",
            "12/12 [==============================] - 0s 6ms/step - loss: 0.0805 - accuracy: 0.9659\n",
            "Epoch 9/10\n",
            "12/12 [==============================] - 0s 5ms/step - loss: 0.0638 - accuracy: 0.9816\n",
            "Epoch 10/10\n",
            "12/12 [==============================] - 0s 4ms/step - loss: 0.0633 - accuracy: 0.9764\n"
          ]
        },
        {
          "output_type": "execute_result",
          "data": {
            "text/plain": [
              "<keras.callbacks.History at 0x7fa7d0863790>"
            ]
          },
          "metadata": {},
          "execution_count": 46
        }
      ]
    },
    {
      "cell_type": "code",
      "metadata": {
        "id": "eXbWwGGItB0t"
      },
      "source": [
        "prediction = model.predict(X_test)"
      ],
      "execution_count": null,
      "outputs": []
    },
    {
      "cell_type": "code",
      "metadata": {
        "colab": {
          "base_uri": "https://localhost:8080/"
        },
        "id": "y3EF2Y00tNNm",
        "outputId": "48d490b3-c077-4ba2-d422-1669922c3d5c"
      },
      "source": [
        "print(np.argmax(prediction[0]))"
      ],
      "execution_count": null,
      "outputs": [
        {
          "output_type": "stream",
          "name": "stdout",
          "text": [
            "0\n"
          ]
        }
      ]
    },
    {
      "cell_type": "code",
      "metadata": {
        "colab": {
          "base_uri": "https://localhost:8080/"
        },
        "id": "UUGLg-XAtSkm",
        "outputId": "af0a9664-11b7-465e-e524-8f816fb32cb1"
      },
      "source": [
        "print(y_train[0])"
      ],
      "execution_count": null,
      "outputs": [
        {
          "output_type": "stream",
          "name": "stdout",
          "text": [
            "0\n"
          ]
        }
      ]
    }
  ]
}